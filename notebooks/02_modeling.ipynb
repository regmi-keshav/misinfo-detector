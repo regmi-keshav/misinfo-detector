{
 "cells": [
  {
   "cell_type": "code",
   "execution_count": 60,
   "id": "79b14000",
   "metadata": {},
   "outputs": [],
   "source": [
    "import pandas as pd\n",
    "import matplotlib.pyplot as plt\n",
    "import re\n",
    "import string\n"
   ]
  },
  {
   "cell_type": "code",
   "execution_count": 59,
   "id": "c932db41",
   "metadata": {},
   "outputs": [
    {
     "name": "stderr",
     "output_type": "stream",
     "text": [
      "[nltk_data] Downloading package punkt to\n",
      "[nltk_data]     C:\\Users\\regmi\\AppData\\Roaming\\nltk_data...\n",
      "[nltk_data]   Package punkt is already up-to-date!\n",
      "[nltk_data] Downloading package stopwords to\n",
      "[nltk_data]     C:\\Users\\regmi\\AppData\\Roaming\\nltk_data...\n",
      "[nltk_data]   Package stopwords is already up-to-date!\n",
      "[nltk_data] Downloading package wordnet to\n",
      "[nltk_data]     C:\\Users\\regmi\\AppData\\Roaming\\nltk_data...\n",
      "[nltk_data]   Package wordnet is already up-to-date!\n",
      "[nltk_data] Downloading package omw-1.4 to\n",
      "[nltk_data]     C:\\Users\\regmi\\AppData\\Roaming\\nltk_data...\n",
      "[nltk_data]   Package omw-1.4 is already up-to-date!\n"
     ]
    },
    {
     "data": {
      "text/plain": [
       "True"
      ]
     },
     "execution_count": 59,
     "metadata": {},
     "output_type": "execute_result"
    }
   ],
   "source": [
    "import nltk\n",
    "from nltk.corpus import stopwords\n",
    "from nltk.tokenize import word_tokenize\n",
    "from nltk.stem import WordNetLemmatizer\n",
    "\n",
    "nltk.download('punkt')\n",
    "nltk.download('stopwords')\n",
    "nltk.download('wordnet')\n",
    "nltk.download('omw-1.4')\n"
   ]
  },
  {
   "cell_type": "code",
   "execution_count": null,
   "id": "bf36814d",
   "metadata": {},
   "outputs": [],
   "source": []
  },
  {
   "cell_type": "code",
   "execution_count": 20,
   "id": "0b257061",
   "metadata": {},
   "outputs": [],
   "source": [
    "news_df = pd.read_csv('../data/processed/cleaned_news.csv')"
   ]
  },
  {
   "cell_type": "code",
   "execution_count": 21,
   "id": "e33287c3",
   "metadata": {},
   "outputs": [
    {
     "data": {
      "application/vnd.microsoft.datawrangler.viewer.v0+json": {
       "columns": [
        {
         "name": "index",
         "rawType": "int64",
         "type": "integer"
        },
        {
         "name": "index",
         "rawType": "int64",
         "type": "integer"
        },
        {
         "name": "title",
         "rawType": "object",
         "type": "string"
        },
        {
         "name": "text",
         "rawType": "object",
         "type": "string"
        },
        {
         "name": "subject",
         "rawType": "object",
         "type": "string"
        },
        {
         "name": "label",
         "rawType": "int64",
         "type": "integer"
        },
        {
         "name": "text_length",
         "rawType": "int64",
         "type": "integer"
        },
        {
         "name": "title_length",
         "rawType": "int64",
         "type": "integer"
        },
        {
         "name": "exclamations_mark_count",
         "rawType": "int64",
         "type": "integer"
        },
        {
         "name": "questions_mark_count",
         "rawType": "int64",
         "type": "integer"
        },
        {
         "name": "uppercase_words_count",
         "rawType": "int64",
         "type": "integer"
        }
       ],
       "ref": "0b4bc85a-da86-486a-86f2-f95df63ae2af",
       "rows": [
        [
         "0",
         "38938",
         "APPLE’S CEO SAYS RELIGIOUS FREEDOM LAWS ARE ‘DANGEROUS’ TO GAYS But Sells Products In Countries Where Gays Are Thrown Off Rooftops",
         "The gay mafia has a new corporate  Don. This is the only article you will need to read about the sheer stupidity of left-wing agitators who are crowing about the new religious freedom law in Indiana.Yesterday, Apple CEO Tim Cook, himself a gay man, published an op-ed in The Washington Post with this ominous title:  Pro-discrimination laws are dangerous.  Cook argues that religious freedom laws, like the one signed by Gov. Mike Pence of Indiana last week are  dangerous  to gay people.A debatable point. However, what is not debatable is this: laws that make homosexuality punishable by death are dangerous to gay people.That s why you might be surprised to learn that Cook s company, Apple, does business in four (4) countries that make homosexuality a capital crime. Those countries are Saudi Arabia, the United Arab Emirates, Nigeria, and Qatar.If you zip on over to this page, you can see the list of all of the countries where Apple does business. Those four countries are on the list.We anxiously await CNN s Andrew Cuomo or ABC s George Stephanopoulos to ask Tim Cook to appear on air and explain this glaring inconsistency, which should be obvious even to the average MSNBC viewer.However, we all know that won t happen.Via: DownTrend",
         "politics",
         "1",
         "1245",
         "130",
         "0",
         "0",
         "4"
        ],
        [
         "1",
         "9407",
         "BENGHAZI PANEL CALLS HILLARY TO TESTIFY UNDER OATH AS WHITE HOUSE ASKS FOR MORE TIME TO “REVIEW” (DELETE) HER E-MAILS",
         "Does anyone really think Hillary Clinton will come clean about ANYTHING? She dug herself such a huge hole that I could see her digging an even deeper one to get herself in the clear. She s going to lie you know it.Gowdy had this to say today about the possibility of retrieving some of Hillary s e-mails:House Select Committee on Benghazi Chairman Trey Gowdy said Tuesday it may still be  technically possible  to retrieve thousands of emails to and from former Secretary of State Hillary Clinton on the private server her lawyer said was  wiped clean. BENGHAZI PANEL CALLS HILLARY TO TESTIFYA House panel Tuesday formally requested Hillary Clinton to testify about the private server and email account she used while serving as secretary of state.Rep. Trey Gowdy, chairman of the Select Committee on Benghazi, sent a request to Clinton s personal attorney, David E. Kendall, requesting that Clinton appear before the committee no later than May 1 for a transcribed interview about the server and email.The request comes after Kendall told Gowdy that the server had been wiped clean and that it would be impossible to recover the 30,000 emails Clinton deleted last year.Gowdy, in his request to Kendall, also asked Clinton to  reconsider  her refusal to turn over the server to a neutral third party, which he called  highly unusual, if not unprecedented. Clinton said she only deleted personal emails and turned over every work-related message to the State Department, which is reviewing the data to filter out classified information. Because of the Secretary s unique arrangement with herself as it relates to public records during and after her tenure as Secretary of State.  Gowdy wrote,  this Committee is left with no alternative but to request Secretary Clinton appear before this Committee for a transcribed interview to better understand decisions the Secretary made relevant to the creation, maintenance, retention, and ultimately deletion of public records. WHAT S THERE TO REVIEW???As you read the following media report it is important to remember:   Hillary Clinton has previously stated, unequivocally, that no classified communication traveled through her self-created personal communication network.So what exactly is there to review? Either the U.S. government believes the statements by the Secretary of State to be true, or they do not.Second,   the government knowingly allowed the secret communication network to exist and allowed all the construction issues therein to take place. Therefore the burden of any administrative compliance issue should reside upon them to reconcile expeditiously.The Obama administration told a federal court Monday that it needs  several months  more to go through former Secretary of State Hillary Rodham Clinton s government emails, saying it s proving time-consuming to sort out exactly what information they can release to the public,Justice Department lawyers also bristled at accusations that the government perpetrated a fraud by hiding the existence of the emails, as Mr. Obama s team begins to fully grapple with the legal complications Mrs. Clinton has left them.Read more: Washington Examiner ",
         "politics",
         "1",
         "3157",
         "117",
         "0",
         "5",
         "14"
        ],
        [
         "2",
         "2119",
         "HILLARY RODHAM NIXON: A CANDIDATE WITH MORE BAGGAGE THAN A SAMSONITE FACTORY",
         "The irony here isn t lost on us. Hillary is being compared to the President she wanted to take down. Nixon s got nothing on this criminal who wiped her server clean after e-mails were requested from her. John Fund questions the Democrat s strategy  to support a Nixonian type candidate with more baggage than a Samsonite factory She s secretive, scandal-plagued, and seemingly inevitable. Ever since Hillary Clinton s e-mail scandal broke, comparisons between her secretive style and that of Richard Nixon, whom she ironically pursued as a young lawyer on the House impeachment committee, have been frequent. But with the revelation that she wiped her private e-mail server clean after her records were requested by the State Department last year, the comparisons are becoming more concrete. Washington wags note that even Nixon never destroyed the tapes, but Hillary has permanently erased her e-mails.Exactly what would a Hillary presidency look like, and could it plunge the nation into another round of debilitating Clinton scandals? That s a question Democrats should ask themselves before they hand the nomination over to her.  Many Democrats have reservations about Hillary s cozy relations with Wall Street, her 2002 vote for the Iraq War, and the Clinton couple s  flexibility  on issues.  They love winning. They re both masters of it, Hillary maybe even more than Bill. But that s not the same as having a belief system,  noted the liberal Rolling Stone magazine. But some Democrats also want Hillary to be challenged on her Nixonian penchant for slipperiness and questionable fundraising.A strong primary challenge has provided clues as to how she would run in a general election   something Democrats should know. After all, the first Clinton presidency was good for the Clintons, but not for the Democratic party, which lost both houses of Congress along with a majority of the nation s governorships   and during a time of economic prosperity and peace.Read more: National Review",
         "politics",
         "1",
         "1994",
         "76",
         "0",
         "1",
         "0"
        ],
        [
         "3",
         "32635",
         "WATCH DIRTY HARRY REID ON HIS LIE ABOUT ROMNEY’S TAXES: “HE DIDN’T WIN, DID HE?”",
         "In case you missed it Sen. Harry Reid (R-NV), who announced last week that he will retire after his current term expires in early 2017, said he does not regret taking to the Senate floor in 2012 to accuse then-GOP presidential nominee Mitt Romney of not paying his taxes. No, I don t regret that at all,  he told CNN s Dana Bash.  The Koch brothers   no one would help me. They were afraid the Koch brothers would go after them, so I did it on my own. Bash said some viewed the charge as  McCarthy-ite,  but Reid didn t buy that explanation. He shrugged, saying,  they can call it whatever they want. Romney didn t win, did he?  Reid said somewhat amusingly.",
         "left-news",
         "1",
         "658",
         "80",
         "0",
         "1",
         "4"
        ],
        [
         "4",
         "17073",
         "OH NO! GUESS WHO FUNDED THE SHRINE TO TED KENNEDY",
         "Nothing like political cronyism to make your stomach churn. Especially since it s for a scumbag like Teddy who rode the coattails of the American taxpayers his entire life. Could they not raise the funds from private donors? I guess not it s a shame for all the hardworking taxpayers out there who ponied up without even having a choice in the matter.Over half of the funding for the Edward M. Kennedy Institute for the United States Senate came from taxpayer dollars, half of that from Defense budget.It was supposed to be all private money but alas even in death Teddy Kennedy has found a way to take from the American taxpayer. That the money is going to his own self aggrandizement would have pleased him. That the money came from  defense  would have pleased him even more.The New York Times writes:  Here s an unstated lesson: It pays to have friends running the Appropriations Committee. More than $18 million of the $38 million in public funds for the center was funneled through the Defense Appropriations Subcommittee, a powerful panel once run by other Senate powerhouses who have died in recent years:Senators Daniel K. Inouye, Democrat of Hawaii, and Ted Stevens, Republican of Alaska  But one would think people would be lining up to throw cash at the project given how great Kennedy was. Couldn t the Kennedy clan pony up the dough? Or maybe just house the memorial in the basement of the Hyannis Port estate? But why have the family or friends of the Kennedys pay for Teddy s monument when one can get the taxpayers to do it?and this from Newsmax:  President Obama, Vice President Biden, Secretary of State John Kerry and Sen. Elizabeth Warren will all gather to praise the Edward M. Kennedy Institute for the United States Senate. Much will be said about Kennedy s 46-year record in the U.S. Senate, nothing about various scandals that ranged from Chappaquiddick to his attempts to have the Soviets intervene in the 1984 presidential election against Ronald Reagan. Boston Herald columnist Howie Carr points out that the Insititute  was supposed to be paid for exclusively with private donations.  But it should come as no surprise that the gorgeous 40,000-square-foot building that will house Kennedy s papers and memorabilia as well as a recreation of his personal office and the Senate chamber was financed with a generous $38 million congressional earmark. The state of Massachusetts chipped in with another $5 million for education  infrastructure.Read more: Newsmax",
         "politics",
         "1",
         "2488",
         "49",
         "0",
         "4",
         "5"
        ]
       ],
       "shape": {
        "columns": 10,
        "rows": 5
       }
      },
      "text/html": [
       "<div>\n",
       "<style scoped>\n",
       "    .dataframe tbody tr th:only-of-type {\n",
       "        vertical-align: middle;\n",
       "    }\n",
       "\n",
       "    .dataframe tbody tr th {\n",
       "        vertical-align: top;\n",
       "    }\n",
       "\n",
       "    .dataframe thead th {\n",
       "        text-align: right;\n",
       "    }\n",
       "</style>\n",
       "<table border=\"1\" class=\"dataframe\">\n",
       "  <thead>\n",
       "    <tr style=\"text-align: right;\">\n",
       "      <th></th>\n",
       "      <th>index</th>\n",
       "      <th>title</th>\n",
       "      <th>text</th>\n",
       "      <th>subject</th>\n",
       "      <th>label</th>\n",
       "      <th>text_length</th>\n",
       "      <th>title_length</th>\n",
       "      <th>exclamations_mark_count</th>\n",
       "      <th>questions_mark_count</th>\n",
       "      <th>uppercase_words_count</th>\n",
       "    </tr>\n",
       "  </thead>\n",
       "  <tbody>\n",
       "    <tr>\n",
       "      <th>0</th>\n",
       "      <td>38938</td>\n",
       "      <td>APPLE’S CEO SAYS RELIGIOUS FREEDOM LAWS ARE ‘D...</td>\n",
       "      <td>The gay mafia has a new corporate  Don. This i...</td>\n",
       "      <td>politics</td>\n",
       "      <td>1</td>\n",
       "      <td>1245</td>\n",
       "      <td>130</td>\n",
       "      <td>0</td>\n",
       "      <td>0</td>\n",
       "      <td>4</td>\n",
       "    </tr>\n",
       "    <tr>\n",
       "      <th>1</th>\n",
       "      <td>9407</td>\n",
       "      <td>BENGHAZI PANEL CALLS HILLARY TO TESTIFY UNDER ...</td>\n",
       "      <td>Does anyone really think Hillary Clinton will ...</td>\n",
       "      <td>politics</td>\n",
       "      <td>1</td>\n",
       "      <td>3157</td>\n",
       "      <td>117</td>\n",
       "      <td>0</td>\n",
       "      <td>5</td>\n",
       "      <td>14</td>\n",
       "    </tr>\n",
       "    <tr>\n",
       "      <th>2</th>\n",
       "      <td>2119</td>\n",
       "      <td>HILLARY RODHAM NIXON: A CANDIDATE WITH MORE BA...</td>\n",
       "      <td>The irony here isn t lost on us. Hillary is be...</td>\n",
       "      <td>politics</td>\n",
       "      <td>1</td>\n",
       "      <td>1994</td>\n",
       "      <td>76</td>\n",
       "      <td>0</td>\n",
       "      <td>1</td>\n",
       "      <td>0</td>\n",
       "    </tr>\n",
       "    <tr>\n",
       "      <th>3</th>\n",
       "      <td>32635</td>\n",
       "      <td>WATCH DIRTY HARRY REID ON HIS LIE ABOUT ROMNEY...</td>\n",
       "      <td>In case you missed it Sen. Harry Reid (R-NV), ...</td>\n",
       "      <td>left-news</td>\n",
       "      <td>1</td>\n",
       "      <td>658</td>\n",
       "      <td>80</td>\n",
       "      <td>0</td>\n",
       "      <td>1</td>\n",
       "      <td>4</td>\n",
       "    </tr>\n",
       "    <tr>\n",
       "      <th>4</th>\n",
       "      <td>17073</td>\n",
       "      <td>OH NO! GUESS WHO FUNDED THE SHRINE TO TED KENNEDY</td>\n",
       "      <td>Nothing like political cronyism to make your s...</td>\n",
       "      <td>politics</td>\n",
       "      <td>1</td>\n",
       "      <td>2488</td>\n",
       "      <td>49</td>\n",
       "      <td>0</td>\n",
       "      <td>4</td>\n",
       "      <td>5</td>\n",
       "    </tr>\n",
       "  </tbody>\n",
       "</table>\n",
       "</div>"
      ],
      "text/plain": [
       "   index                                              title  \\\n",
       "0  38938  APPLE’S CEO SAYS RELIGIOUS FREEDOM LAWS ARE ‘D...   \n",
       "1   9407  BENGHAZI PANEL CALLS HILLARY TO TESTIFY UNDER ...   \n",
       "2   2119  HILLARY RODHAM NIXON: A CANDIDATE WITH MORE BA...   \n",
       "3  32635  WATCH DIRTY HARRY REID ON HIS LIE ABOUT ROMNEY...   \n",
       "4  17073  OH NO! GUESS WHO FUNDED THE SHRINE TO TED KENNEDY   \n",
       "\n",
       "                                                text    subject  label  \\\n",
       "0  The gay mafia has a new corporate  Don. This i...   politics      1   \n",
       "1  Does anyone really think Hillary Clinton will ...   politics      1   \n",
       "2  The irony here isn t lost on us. Hillary is be...   politics      1   \n",
       "3  In case you missed it Sen. Harry Reid (R-NV), ...  left-news      1   \n",
       "4  Nothing like political cronyism to make your s...   politics      1   \n",
       "\n",
       "   text_length  title_length  exclamations_mark_count  questions_mark_count  \\\n",
       "0         1245           130                        0                     0   \n",
       "1         3157           117                        0                     5   \n",
       "2         1994            76                        0                     1   \n",
       "3          658            80                        0                     1   \n",
       "4         2488            49                        0                     4   \n",
       "\n",
       "   uppercase_words_count  \n",
       "0                      4  \n",
       "1                     14  \n",
       "2                      0  \n",
       "3                      4  \n",
       "4                      5  "
      ]
     },
     "execution_count": 21,
     "metadata": {},
     "output_type": "execute_result"
    }
   ],
   "source": [
    "news_df.head()"
   ]
  },
  {
   "cell_type": "markdown",
   "id": "e4e999d4",
   "metadata": {},
   "source": [
    "## 1: Text Preprocessing"
   ]
  },
  {
   "cell_type": "markdown",
   "id": "ebc34836",
   "metadata": {},
   "source": [
    "### 1.1: Cleaning \n",
    "    - Converts text to lowercase.\n",
    "    - Removes URLs, standalone numbers, and HTML tags.\n",
    "    - Removes punctuation, newlines, and specific unicode punctuations.\n",
    "    - Removes emojis using a regex pattern.\n",
    "    - Expands common English contractions (e.g., \"isn't\" → \"is not\").\n",
    "    - Removes extra whitespace."
   ]
  },
  {
   "cell_type": "code",
   "execution_count": 17,
   "id": "792ac16c",
   "metadata": {},
   "outputs": [],
   "source": [
    "\n",
    "def cleaning(text):\n",
    "    # Lowercase the text\n",
    "    text = text.lower()\n",
    "\n",
    "    # Remove URLs\n",
    "    text = re.sub(r'https?://\\S+|www\\.\\S+', '', text)\n",
    "\n",
    "    # Remove standalone numbers\n",
    "    text = re.sub(r'\\b\\d+\\b', '', text)\n",
    "\n",
    "    # Remove HTML tags\n",
    "    text = re.sub(r'<.*?>', '', text)\n",
    "\n",
    "    # Remove punctuation\n",
    "    text = re.sub(f'[{re.escape(string.punctuation)}]', '', text)\n",
    "\n",
    "    # Remove newlines and specific unicode punctuations\n",
    "    text = re.sub(r'\\n', ' ', text)\n",
    "    text = re.sub(r'[’“”…]', '', text)\n",
    "\n",
    "    # Remove emojis\n",
    "    emoji_pattern = re.compile(\"[\"\n",
    "        u\"\\U0001F600-\\U0001F64F\"  # emoticons\n",
    "        u\"\\U0001F300-\\U0001F5FF\"  # symbols & pictographs\n",
    "        u\"\\U0001F680-\\U0001F6FF\"  # transport & map symbols\n",
    "        u\"\\U0001F1E0-\\U0001F1FF\"  # flags\n",
    "        u\"\\U00002702-\\U000027B0\"\n",
    "        u\"\\U000024C2-\\U0001F251\"\n",
    "        \"]+\", flags=re.UNICODE)\n",
    "    text = emoji_pattern.sub('', text)\n",
    "\n",
    "    # Expand contractions\n",
    "    contractions = {\n",
    "        \"isn't\": \"is not\", \"he's\": \"he is\", \"wasn't\": \"was not\", \"there's\": \"there is\",\n",
    "        \"couldn't\": \"could not\", \"won't\": \"will not\", \"they're\": \"they are\", \"she's\": \"she is\",\n",
    "        \"wouldn't\": \"would not\", \"haven't\": \"have not\", \"that's\": \"that is\", \"you've\": \"you have\",\n",
    "        \"what's\": \"what is\", \"weren't\": \"were not\", \"we're\": \"we are\", \"hasn't\": \"has not\",\n",
    "        \"you'd\": \"you would\", \"shouldn't\": \"should not\", \"let's\": \"let us\", \"they've\": \"they have\",\n",
    "        \"you'll\": \"you will\", \"i'm\": \"i am\", \"we've\": \"we have\", \"it's\": \"it is\", \"don't\": \"do not\",\n",
    "        \"that´s\": \"that is\", \"i´m\": \"i am\", \"it’s\": \"it is\", \"she´s\": \"she is\", \"i’m\": \"i am\",\n",
    "        \"i’d\": \"i did\", \"there’s\": \"there is\"\n",
    "    }\n",
    "\n",
    "    for contraction, expanded in contractions.items():\n",
    "        text = re.sub(rf\"\\b{re.escape(contraction)}\\b\", expanded, text)\n",
    "\n",
    "    # Remove extra whitespace\n",
    "    text = re.sub(r'\\s+', ' ', text).strip()\n",
    "\n",
    "    return text\n"
   ]
  },
  {
   "cell_type": "code",
   "execution_count": 23,
   "id": "c7ba7727",
   "metadata": {},
   "outputs": [],
   "source": [
    "new_text_df = news_df['text'].apply(cleaning)"
   ]
  },
  {
   "cell_type": "code",
   "execution_count": 30,
   "id": "b7f88b66",
   "metadata": {},
   "outputs": [
    {
     "data": {
      "application/vnd.microsoft.datawrangler.viewer.v0+json": {
       "columns": [
        {
         "name": "index",
         "rawType": "int64",
         "type": "integer"
        },
        {
         "name": "text",
         "rawType": "object",
         "type": "string"
        }
       ],
       "ref": "b4223500-c7b2-4c9b-a5c7-1dffeabe216f",
       "rows": [
        [
         "0",
         "the gay mafia has a new corporate don this is the only article you will need to read about the sheer stupidity of leftwing agitators who are crowing about the new religious freedom law in indianayesterday apple ceo tim cook himself a gay man published an oped in the washington post with this ominous title prodiscrimination laws are dangerous cook argues that religious freedom laws like the one signed by gov mike pence of indiana last week are dangerous to gay peoplea debatable point however what is not debatable is this laws that make homosexuality punishable by death are dangerous to gay peoplethat s why you might be surprised to learn that cook s company apple does business in four countries that make homosexuality a capital crime those countries are saudi arabia the united arab emirates nigeria and qatarif you zip on over to this page you can see the list of all of the countries where apple does business those four countries are on the listwe anxiously await cnn s andrew cuomo or abc s george stephanopoulos to ask tim cook to appear on air and explain this glaring inconsistency which should be obvious even to the average msnbc viewerhowever we all know that won t happenvia downtrend"
        ],
        [
         "1",
         "does anyone really think hillary clinton will come clean about anything she dug herself such a huge hole that i could see her digging an even deeper one to get herself in the clear she s going to lie you know itgowdy had this to say today about the possibility of retrieving some of hillary s emailshouse select committee on benghazi chairman trey gowdy said tuesday it may still be technically possible to retrieve thousands of emails to and from former secretary of state hillary clinton on the private server her lawyer said was wiped clean benghazi panel calls hillary to testifya house panel tuesday formally requested hillary clinton to testify about the private server and email account she used while serving as secretary of staterep trey gowdy chairman of the select committee on benghazi sent a request to clinton s personal attorney david e kendall requesting that clinton appear before the committee no later than may for a transcribed interview about the server and emailthe request comes after kendall told gowdy that the server had been wiped clean and that it would be impossible to recover the emails clinton deleted last yeargowdy in his request to kendall also asked clinton to reconsider her refusal to turn over the server to a neutral third party which he called highly unusual if not unprecedented clinton said she only deleted personal emails and turned over every workrelated message to the state department which is reviewing the data to filter out classified information because of the secretary s unique arrangement with herself as it relates to public records during and after her tenure as secretary of state gowdy wrote this committee is left with no alternative but to request secretary clinton appear before this committee for a transcribed interview to better understand decisions the secretary made relevant to the creation maintenance retention and ultimately deletion of public records what s there to reviewas you read the following media report it is important to remember hillary clinton has previously stated unequivocally that no classified communication traveled through her selfcreated personal communication networkso what exactly is there to review either the us government believes the statements by the secretary of state to be true or they do notsecond the government knowingly allowed the secret communication network to exist and allowed all the construction issues therein to take place therefore the burden of any administrative compliance issue should reside upon them to reconcile expeditiouslythe obama administration told a federal court monday that it needs several months more to go through former secretary of state hillary rodham clinton s government emails saying it s proving timeconsuming to sort out exactly what information they can release to the publicjustice department lawyers also bristled at accusations that the government perpetrated a fraud by hiding the existence of the emails as mr obama s team begins to fully grapple with the legal complications mrs clinton has left themread more washington examiner"
        ],
        [
         "2",
         "the irony here isn t lost on us hillary is being compared to the president she wanted to take down nixon s got nothing on this criminal who wiped her server clean after emails were requested from her john fund questions the democrat s strategy to support a nixonian type candidate with more baggage than a samsonite factory she s secretive scandalplagued and seemingly inevitable ever since hillary clinton s email scandal broke comparisons between her secretive style and that of richard nixon whom she ironically pursued as a young lawyer on the house impeachment committee have been frequent but with the revelation that she wiped her private email server clean after her records were requested by the state department last year the comparisons are becoming more concrete washington wags note that even nixon never destroyed the tapes but hillary has permanently erased her emailsexactly what would a hillary presidency look like and could it plunge the nation into another round of debilitating clinton scandals that s a question democrats should ask themselves before they hand the nomination over to her many democrats have reservations about hillary s cozy relations with wall street her vote for the iraq war and the clinton couple s flexibility on issues they love winning they re both masters of it hillary maybe even more than bill but that s not the same as having a belief system noted the liberal rolling stone magazine but some democrats also want hillary to be challenged on her nixonian penchant for slipperiness and questionable fundraisinga strong primary challenge has provided clues as to how she would run in a general election something democrats should know after all the first clinton presidency was good for the clintons but not for the democratic party which lost both houses of congress along with a majority of the nation s governorships and during a time of economic prosperity and peaceread more national review"
        ],
        [
         "3",
         "in case you missed it sen harry reid rnv who announced last week that he will retire after his current term expires in early said he does not regret taking to the senate floor in to accuse thengop presidential nominee mitt romney of not paying his taxes no i don t regret that at all he told cnn s dana bash the koch brothers no one would help me they were afraid the koch brothers would go after them so i did it on my own bash said some viewed the charge as mccarthyite but reid didn t buy that explanation he shrugged saying they can call it whatever they want romney didn t win did he reid said somewhat amusingly"
        ],
        [
         "4",
         "nothing like political cronyism to make your stomach churn especially since it s for a scumbag like teddy who rode the coattails of the american taxpayers his entire life could they not raise the funds from private donors i guess not it s a shame for all the hardworking taxpayers out there who ponied up without even having a choice in the matterover half of the funding for the edward m kennedy institute for the united states senate came from taxpayer dollars half of that from defense budgetit was supposed to be all private money but alas even in death teddy kennedy has found a way to take from the american taxpayer that the money is going to his own self aggrandizement would have pleased him that the money came from defense would have pleased him even morethe new york times writes here s an unstated lesson it pays to have friends running the appropriations committee more than million of the million in public funds for the center was funneled through the defense appropriations subcommittee a powerful panel once run by other senate powerhouses who have died in recent yearssenators daniel k inouye democrat of hawaii and ted stevens republican of alaska but one would think people would be lining up to throw cash at the project given how great kennedy was couldn t the kennedy clan pony up the dough or maybe just house the memorial in the basement of the hyannis port estate but why have the family or friends of the kennedys pay for teddy s monument when one can get the taxpayers to do itand this from newsmax president obama vice president biden secretary of state john kerry and sen elizabeth warren will all gather to praise the edward m kennedy institute for the united states senate much will be said about kennedy s year record in the us senate nothing about various scandals that ranged from chappaquiddick to his attempts to have the soviets intervene in the presidential election against ronald reagan boston herald columnist howie carr points out that the insititute was supposed to be paid for exclusively with private donations but it should come as no surprise that the gorgeous squarefoot building that will house kennedy s papers and memorabilia as well as a recreation of his personal office and the senate chamber was financed with a generous million congressional earmark the state of massachusetts chipped in with another million for education infrastructureread more newsmax"
        ]
       ],
       "shape": {
        "columns": 1,
        "rows": 5
       }
      },
      "text/html": [
       "<div>\n",
       "<style scoped>\n",
       "    .dataframe tbody tr th:only-of-type {\n",
       "        vertical-align: middle;\n",
       "    }\n",
       "\n",
       "    .dataframe tbody tr th {\n",
       "        vertical-align: top;\n",
       "    }\n",
       "\n",
       "    .dataframe thead th {\n",
       "        text-align: right;\n",
       "    }\n",
       "</style>\n",
       "<table border=\"1\" class=\"dataframe\">\n",
       "  <thead>\n",
       "    <tr style=\"text-align: right;\">\n",
       "      <th></th>\n",
       "      <th>text</th>\n",
       "    </tr>\n",
       "  </thead>\n",
       "  <tbody>\n",
       "    <tr>\n",
       "      <th>0</th>\n",
       "      <td>the gay mafia has a new corporate don this is ...</td>\n",
       "    </tr>\n",
       "    <tr>\n",
       "      <th>1</th>\n",
       "      <td>does anyone really think hillary clinton will ...</td>\n",
       "    </tr>\n",
       "    <tr>\n",
       "      <th>2</th>\n",
       "      <td>the irony here isn t lost on us hillary is bei...</td>\n",
       "    </tr>\n",
       "    <tr>\n",
       "      <th>3</th>\n",
       "      <td>in case you missed it sen harry reid rnv who a...</td>\n",
       "    </tr>\n",
       "    <tr>\n",
       "      <th>4</th>\n",
       "      <td>nothing like political cronyism to make your s...</td>\n",
       "    </tr>\n",
       "  </tbody>\n",
       "</table>\n",
       "</div>"
      ],
      "text/plain": [
       "                                                text\n",
       "0  the gay mafia has a new corporate don this is ...\n",
       "1  does anyone really think hillary clinton will ...\n",
       "2  the irony here isn t lost on us hillary is bei...\n",
       "3  in case you missed it sen harry reid rnv who a...\n",
       "4  nothing like political cronyism to make your s..."
      ]
     },
     "execution_count": 30,
     "metadata": {},
     "output_type": "execute_result"
    }
   ],
   "source": [
    "new_text_df = pd.DataFrame(new_text_df)\n",
    "\n",
    "new_text_df.head()"
   ]
  },
  {
   "cell_type": "markdown",
   "id": "9c470c62",
   "metadata": {},
   "source": [
    "### 1.2: Removing the stop words from the text"
   ]
  },
  {
   "cell_type": "code",
   "execution_count": 31,
   "id": "6ddc6da9",
   "metadata": {},
   "outputs": [],
   "source": [
    "# Removing the stop words from new_text_df\n",
    "stop_words = stopwords.words()\n",
    "\n",
    "stop_words_set = set(stop_words)\n",
    "\n",
    "new_text_df['no_sw'] = new_text_df['text'].apply(lambda x: ' '.join([word for word in x.split() if word not in (stop_words_set)]))"
   ]
  },
  {
   "cell_type": "code",
   "execution_count": 32,
   "id": "732f8a49",
   "metadata": {},
   "outputs": [
    {
     "data": {
      "application/vnd.microsoft.datawrangler.viewer.v0+json": {
       "columns": [
        {
         "name": "index",
         "rawType": "int64",
         "type": "integer"
        },
        {
         "name": "text",
         "rawType": "object",
         "type": "string"
        },
        {
         "name": "no_sw",
         "rawType": "object",
         "type": "string"
        }
       ],
       "ref": "5e94f0d2-fa5f-47f7-9430-969c3d280b2f",
       "rows": [
        [
         "0",
         "the gay mafia has a new corporate don this is the only article you will need to read about the sheer stupidity of leftwing agitators who are crowing about the new religious freedom law in indianayesterday apple ceo tim cook himself a gay man published an oped in the washington post with this ominous title prodiscrimination laws are dangerous cook argues that religious freedom laws like the one signed by gov mike pence of indiana last week are dangerous to gay peoplea debatable point however what is not debatable is this laws that make homosexuality punishable by death are dangerous to gay peoplethat s why you might be surprised to learn that cook s company apple does business in four countries that make homosexuality a capital crime those countries are saudi arabia the united arab emirates nigeria and qatarif you zip on over to this page you can see the list of all of the countries where apple does business those four countries are on the listwe anxiously await cnn s andrew cuomo or abc s george stephanopoulos to ask tim cook to appear on air and explain this glaring inconsistency which should be obvious even to the average msnbc viewerhowever we all know that won t happenvia downtrend",
         "gay mafia corporate article read sheer stupidity leftwing agitators crowing religious freedom law indianayesterday apple ceo tim cook gay published oped washington post ominous title prodiscrimination laws dangerous cook argues religious freedom laws signed gov mike pence indiana week dangerous gay peoplea debatable point debatable laws make homosexuality punishable death dangerous gay peoplethat surprised learn cook company apple business countries make homosexuality capital crime countries saudi arabia united arab emirates nigeria qatarif zip page list countries apple business countries listwe anxiously await cnn andrew cuomo abc george stephanopoulos tim cook air explain glaring inconsistency obvious average msnbc viewerhowever happenvia downtrend"
        ],
        [
         "1",
         "does anyone really think hillary clinton will come clean about anything she dug herself such a huge hole that i could see her digging an even deeper one to get herself in the clear she s going to lie you know itgowdy had this to say today about the possibility of retrieving some of hillary s emailshouse select committee on benghazi chairman trey gowdy said tuesday it may still be technically possible to retrieve thousands of emails to and from former secretary of state hillary clinton on the private server her lawyer said was wiped clean benghazi panel calls hillary to testifya house panel tuesday formally requested hillary clinton to testify about the private server and email account she used while serving as secretary of staterep trey gowdy chairman of the select committee on benghazi sent a request to clinton s personal attorney david e kendall requesting that clinton appear before the committee no later than may for a transcribed interview about the server and emailthe request comes after kendall told gowdy that the server had been wiped clean and that it would be impossible to recover the emails clinton deleted last yeargowdy in his request to kendall also asked clinton to reconsider her refusal to turn over the server to a neutral third party which he called highly unusual if not unprecedented clinton said she only deleted personal emails and turned over every workrelated message to the state department which is reviewing the data to filter out classified information because of the secretary s unique arrangement with herself as it relates to public records during and after her tenure as secretary of state gowdy wrote this committee is left with no alternative but to request secretary clinton appear before this committee for a transcribed interview to better understand decisions the secretary made relevant to the creation maintenance retention and ultimately deletion of public records what s there to reviewas you read the following media report it is important to remember hillary clinton has previously stated unequivocally that no classified communication traveled through her selfcreated personal communication networkso what exactly is there to review either the us government believes the statements by the secretary of state to be true or they do notsecond the government knowingly allowed the secret communication network to exist and allowed all the construction issues therein to take place therefore the burden of any administrative compliance issue should reside upon them to reconcile expeditiouslythe obama administration told a federal court monday that it needs several months more to go through former secretary of state hillary rodham clinton s government emails saying it s proving timeconsuming to sort out exactly what information they can release to the publicjustice department lawyers also bristled at accusations that the government perpetrated a fraud by hiding the existence of the emails as mr obama s team begins to fully grapple with the legal complications mrs clinton has left themread more washington examiner",
         "hillary clinton clean dug huge hole digging deeper clear lie itgowdy today possibility retrieving hillary emailshouse select committee benghazi chairman trey gowdy tuesday technically possible retrieve thousands emails former secretary state hillary clinton private server lawyer wiped clean benghazi panel calls hillary testifya house panel tuesday formally requested hillary clinton testify private server email account serving secretary staterep trey gowdy chairman select committee benghazi request clinton personal attorney david kendall requesting clinton committee transcribed interview server emailthe request kendall told gowdy server wiped clean impossible recover emails clinton deleted yeargowdy request kendall asked clinton reconsider refusal turn server neutral party called highly unusual unprecedented clinton deleted personal emails turned workrelated message state department reviewing data filter classified information secretary unique arrangement relates public records tenure secretary state gowdy wrote committee left alternative request secretary clinton committee transcribed interview understand decisions secretary made relevant creation maintenance retention ultimately deletion public records reviewas read media report important remember hillary clinton previously stated unequivocally classified communication traveled selfcreated personal communication networkso review government believes statements secretary state notsecond government knowingly allowed secret communication network exist allowed construction issues place burden administrative compliance issue reside reconcile expeditiouslythe obama administration told federal court monday months former secretary state hillary rodham clinton government emails proving timeconsuming sort information release publicjustice department lawyers bristled accusations government perpetrated fraud hiding existence emails mr obama team begins fully grapple legal complications mrs clinton left themread washington examiner"
        ],
        [
         "2",
         "the irony here isn t lost on us hillary is being compared to the president she wanted to take down nixon s got nothing on this criminal who wiped her server clean after emails were requested from her john fund questions the democrat s strategy to support a nixonian type candidate with more baggage than a samsonite factory she s secretive scandalplagued and seemingly inevitable ever since hillary clinton s email scandal broke comparisons between her secretive style and that of richard nixon whom she ironically pursued as a young lawyer on the house impeachment committee have been frequent but with the revelation that she wiped her private email server clean after her records were requested by the state department last year the comparisons are becoming more concrete washington wags note that even nixon never destroyed the tapes but hillary has permanently erased her emailsexactly what would a hillary presidency look like and could it plunge the nation into another round of debilitating clinton scandals that s a question democrats should ask themselves before they hand the nomination over to her many democrats have reservations about hillary s cozy relations with wall street her vote for the iraq war and the clinton couple s flexibility on issues they love winning they re both masters of it hillary maybe even more than bill but that s not the same as having a belief system noted the liberal rolling stone magazine but some democrats also want hillary to be challenged on her nixonian penchant for slipperiness and questionable fundraisinga strong primary challenge has provided clues as to how she would run in a general election something democrats should know after all the first clinton presidency was good for the clintons but not for the democratic party which lost both houses of congress along with a majority of the nation s governorships and during a time of economic prosperity and peaceread more national review",
         "irony lost hillary compared president wanted nixon criminal wiped server clean emails requested john fund questions democrat strategy support nixonian type candidate baggage samsonite factory secretive scandalplagued seemingly inevitable hillary clinton email scandal broke comparisons secretive style richard nixon ironically pursued young lawyer house impeachment committee frequent revelation wiped private email server clean records requested state department year comparisons concrete washington wags note nixon destroyed tapes hillary permanently erased emailsexactly hillary presidency plunge nation round debilitating clinton scandals question democrats hand nomination democrats reservations hillary cozy relations wall street vote iraq clinton couple flexibility issues love winning masters hillary bill belief system noted liberal rolling stone magazine democrats hillary challenged nixonian penchant slipperiness questionable fundraisinga strong primary challenge provided clues run general election democrats clinton presidency clintons democratic party lost houses congress majority nation governorships time economic prosperity peaceread national review"
        ],
        [
         "3",
         "in case you missed it sen harry reid rnv who announced last week that he will retire after his current term expires in early said he does not regret taking to the senate floor in to accuse thengop presidential nominee mitt romney of not paying his taxes no i don t regret that at all he told cnn s dana bash the koch brothers no one would help me they were afraid the koch brothers would go after them so i did it on my own bash said some viewed the charge as mccarthyite but reid didn t buy that explanation he shrugged saying they can call it whatever they want romney didn t win did he reid said somewhat amusingly",
         "case missed harry reid rnv announced week retire current term expires early regret taking senate floor accuse thengop presidential nominee romney paying taxes regret told cnn dana bash koch brothers afraid koch brothers bash viewed charge mccarthyite reid buy explanation shrugged call romney win reid amusingly"
        ],
        [
         "4",
         "nothing like political cronyism to make your stomach churn especially since it s for a scumbag like teddy who rode the coattails of the american taxpayers his entire life could they not raise the funds from private donors i guess not it s a shame for all the hardworking taxpayers out there who ponied up without even having a choice in the matterover half of the funding for the edward m kennedy institute for the united states senate came from taxpayer dollars half of that from defense budgetit was supposed to be all private money but alas even in death teddy kennedy has found a way to take from the american taxpayer that the money is going to his own self aggrandizement would have pleased him that the money came from defense would have pleased him even morethe new york times writes here s an unstated lesson it pays to have friends running the appropriations committee more than million of the million in public funds for the center was funneled through the defense appropriations subcommittee a powerful panel once run by other senate powerhouses who have died in recent yearssenators daniel k inouye democrat of hawaii and ted stevens republican of alaska but one would think people would be lining up to throw cash at the project given how great kennedy was couldn t the kennedy clan pony up the dough or maybe just house the memorial in the basement of the hyannis port estate but why have the family or friends of the kennedys pay for teddy s monument when one can get the taxpayers to do itand this from newsmax president obama vice president biden secretary of state john kerry and sen elizabeth warren will all gather to praise the edward m kennedy institute for the united states senate much will be said about kennedy s year record in the us senate nothing about various scandals that ranged from chappaquiddick to his attempts to have the soviets intervene in the presidential election against ronald reagan boston herald columnist howie carr points out that the insititute was supposed to be paid for exclusively with private donations but it should come as no surprise that the gorgeous squarefoot building that will house kennedy s papers and memorabilia as well as a recreation of his personal office and the senate chamber was financed with a generous million congressional earmark the state of massachusetts chipped in with another million for education infrastructureread more newsmax",
         "political cronyism make stomach churn especially scumbag teddy rode coattails american taxpayers entire life raise funds private donors guess shame hardworking taxpayers ponied choice matterover half funding edward kennedy institute united states senate taxpayer dollars half defense budgetit supposed private money alas death teddy kennedy found american taxpayer money aggrandizement pleased money defense pleased morethe york times writes unstated lesson pays friends running appropriations committee million million public funds center funneled defense appropriations subcommittee powerful panel run senate powerhouses died recent yearssenators daniel inouye democrat hawaii ted stevens republican alaska lining throw cash project great kennedy kennedy clan pony dough house memorial basement hyannis port estate family friends kennedys pay teddy monument taxpayers itand newsmax president obama vice president biden secretary state john kerry elizabeth warren gather praise edward kennedy institute united states senate kennedy year record senate scandals ranged chappaquiddick attempts soviets intervene presidential election ronald reagan boston herald columnist howie carr points insititute supposed paid exclusively private donations surprise gorgeous squarefoot building house kennedy papers memorabilia recreation personal office senate chamber financed generous million congressional earmark state massachusetts chipped million education infrastructureread newsmax"
        ]
       ],
       "shape": {
        "columns": 2,
        "rows": 5
       }
      },
      "text/html": [
       "<div>\n",
       "<style scoped>\n",
       "    .dataframe tbody tr th:only-of-type {\n",
       "        vertical-align: middle;\n",
       "    }\n",
       "\n",
       "    .dataframe tbody tr th {\n",
       "        vertical-align: top;\n",
       "    }\n",
       "\n",
       "    .dataframe thead th {\n",
       "        text-align: right;\n",
       "    }\n",
       "</style>\n",
       "<table border=\"1\" class=\"dataframe\">\n",
       "  <thead>\n",
       "    <tr style=\"text-align: right;\">\n",
       "      <th></th>\n",
       "      <th>text</th>\n",
       "      <th>no_sw</th>\n",
       "    </tr>\n",
       "  </thead>\n",
       "  <tbody>\n",
       "    <tr>\n",
       "      <th>0</th>\n",
       "      <td>the gay mafia has a new corporate don this is ...</td>\n",
       "      <td>gay mafia corporate article read sheer stupidi...</td>\n",
       "    </tr>\n",
       "    <tr>\n",
       "      <th>1</th>\n",
       "      <td>does anyone really think hillary clinton will ...</td>\n",
       "      <td>hillary clinton clean dug huge hole digging de...</td>\n",
       "    </tr>\n",
       "    <tr>\n",
       "      <th>2</th>\n",
       "      <td>the irony here isn t lost on us hillary is bei...</td>\n",
       "      <td>irony lost hillary compared president wanted n...</td>\n",
       "    </tr>\n",
       "    <tr>\n",
       "      <th>3</th>\n",
       "      <td>in case you missed it sen harry reid rnv who a...</td>\n",
       "      <td>case missed harry reid rnv announced week reti...</td>\n",
       "    </tr>\n",
       "    <tr>\n",
       "      <th>4</th>\n",
       "      <td>nothing like political cronyism to make your s...</td>\n",
       "      <td>political cronyism make stomach churn especial...</td>\n",
       "    </tr>\n",
       "  </tbody>\n",
       "</table>\n",
       "</div>"
      ],
      "text/plain": [
       "                                                text  \\\n",
       "0  the gay mafia has a new corporate don this is ...   \n",
       "1  does anyone really think hillary clinton will ...   \n",
       "2  the irony here isn t lost on us hillary is bei...   \n",
       "3  in case you missed it sen harry reid rnv who a...   \n",
       "4  nothing like political cronyism to make your s...   \n",
       "\n",
       "                                               no_sw  \n",
       "0  gay mafia corporate article read sheer stupidi...  \n",
       "1  hillary clinton clean dug huge hole digging de...  \n",
       "2  irony lost hillary compared president wanted n...  \n",
       "3  case missed harry reid rnv announced week reti...  \n",
       "4  political cronyism make stomach churn especial...  "
      ]
     },
     "execution_count": 32,
     "metadata": {},
     "output_type": "execute_result"
    }
   ],
   "source": [
    "new_text_df.head()"
   ]
  },
  {
   "cell_type": "markdown",
   "id": "a1efd767",
   "metadata": {},
   "source": [
    "### 1.3: Removing the most frequent words: As they will introduce Bias"
   ]
  },
  {
   "cell_type": "code",
   "execution_count": 33,
   "id": "d8c7a058",
   "metadata": {},
   "outputs": [
    {
     "data": {
      "text/plain": [
       "[('trump', 105431),\n",
       " ('president', 44357),\n",
       " ('reuters', 28318),\n",
       " ('state', 27389),\n",
       " ('donald', 25142),\n",
       " ('states', 24455),\n",
       " ('house', 24215),\n",
       " ('government', 23544),\n",
       " ('republican', 22893),\n",
       " ('united', 21210)]"
      ]
     },
     "execution_count": 33,
     "metadata": {},
     "output_type": "execute_result"
    }
   ],
   "source": [
    "from collections import Counter\n",
    "\n",
    "cnt = Counter()\n",
    "\n",
    "for text in new_text_df['no_sw'].values:\n",
    "    for word in text.split():\n",
    "        cnt[word]+=1\n",
    "        \n",
    "cnt.most_common(10)"
   ]
  },
  {
   "cell_type": "code",
   "execution_count": 47,
   "id": "a5672569",
   "metadata": {},
   "outputs": [
    {
     "data": {
      "image/png": "[encoded data removed]",
      "text/plain": [
       "<Figure size 640x480 with 1 Axes>"
      ]
     },
     "metadata": {},
     "output_type": "display_data"
    }
   ],
   "source": [
    "temp = pd.DataFrame(cnt.most_common(10))\n",
    "temp.columns=['word', 'count']\n",
    "\n",
    "plt.barh(temp['word'], temp['count'])\n",
    "plt.xlabel('Count')\n",
    "plt.ylabel('Word')\n",
    "plt.title('Top 10 Most Frequent Words\\n We will remove them as they introduce bias')\n",
    "plt.show()"
   ]
  },
  {
   "cell_type": "code",
   "execution_count": 48,
   "id": "da5ae5f8",
   "metadata": {},
   "outputs": [
    {
     "data": {
      "application/vnd.microsoft.datawrangler.viewer.v0+json": {
       "columns": [
        {
         "name": "index",
         "rawType": "int64",
         "type": "integer"
        },
        {
         "name": "text",
         "rawType": "object",
         "type": "string"
        },
        {
         "name": "no_sw",
         "rawType": "object",
         "type": "string"
        },
        {
         "name": "wo_stopfreq",
         "rawType": "object",
         "type": "string"
        }
       ],
       "ref": "c3210562-96aa-4084-96f9-306710f674db",
       "rows": [
        [
         "0",
         "the gay mafia has a new corporate don this is the only article you will need to read about the sheer stupidity of leftwing agitators who are crowing about the new religious freedom law in indianayesterday apple ceo tim cook himself a gay man published an oped in the washington post with this ominous title prodiscrimination laws are dangerous cook argues that religious freedom laws like the one signed by gov mike pence of indiana last week are dangerous to gay peoplea debatable point however what is not debatable is this laws that make homosexuality punishable by death are dangerous to gay peoplethat s why you might be surprised to learn that cook s company apple does business in four countries that make homosexuality a capital crime those countries are saudi arabia the united arab emirates nigeria and qatarif you zip on over to this page you can see the list of all of the countries where apple does business those four countries are on the listwe anxiously await cnn s andrew cuomo or abc s george stephanopoulos to ask tim cook to appear on air and explain this glaring inconsistency which should be obvious even to the average msnbc viewerhowever we all know that won t happenvia downtrend",
         "gay mafia corporate article read sheer stupidity leftwing agitators crowing religious freedom law indianayesterday apple ceo tim cook gay published oped washington post ominous title prodiscrimination laws dangerous cook argues religious freedom laws signed gov mike pence indiana week dangerous gay peoplea debatable point debatable laws make homosexuality punishable death dangerous gay peoplethat surprised learn cook company apple business countries make homosexuality capital crime countries saudi arabia united arab emirates nigeria qatarif zip page list countries apple business countries listwe anxiously await cnn andrew cuomo abc george stephanopoulos tim cook air explain glaring inconsistency obvious average msnbc viewerhowever happenvia downtrend",
         "gay mafia corporate article read sheer stupidity leftwing agitators crowing religious freedom law indianayesterday apple ceo tim cook gay published oped washington post ominous title prodiscrimination laws dangerous cook argues religious freedom laws signed gov mike pence indiana week dangerous gay peoplea debatable point debatable laws make homosexuality punishable death dangerous gay peoplethat surprised learn cook company apple business countries make homosexuality capital crime countries saudi arabia arab emirates nigeria qatarif zip page list countries apple business countries listwe anxiously await cnn andrew cuomo abc george stephanopoulos tim cook air explain glaring inconsistency obvious average msnbc viewerhowever happenvia downtrend"
        ],
        [
         "1",
         "does anyone really think hillary clinton will come clean about anything she dug herself such a huge hole that i could see her digging an even deeper one to get herself in the clear she s going to lie you know itgowdy had this to say today about the possibility of retrieving some of hillary s emailshouse select committee on benghazi chairman trey gowdy said tuesday it may still be technically possible to retrieve thousands of emails to and from former secretary of state hillary clinton on the private server her lawyer said was wiped clean benghazi panel calls hillary to testifya house panel tuesday formally requested hillary clinton to testify about the private server and email account she used while serving as secretary of staterep trey gowdy chairman of the select committee on benghazi sent a request to clinton s personal attorney david e kendall requesting that clinton appear before the committee no later than may for a transcribed interview about the server and emailthe request comes after kendall told gowdy that the server had been wiped clean and that it would be impossible to recover the emails clinton deleted last yeargowdy in his request to kendall also asked clinton to reconsider her refusal to turn over the server to a neutral third party which he called highly unusual if not unprecedented clinton said she only deleted personal emails and turned over every workrelated message to the state department which is reviewing the data to filter out classified information because of the secretary s unique arrangement with herself as it relates to public records during and after her tenure as secretary of state gowdy wrote this committee is left with no alternative but to request secretary clinton appear before this committee for a transcribed interview to better understand decisions the secretary made relevant to the creation maintenance retention and ultimately deletion of public records what s there to reviewas you read the following media report it is important to remember hillary clinton has previously stated unequivocally that no classified communication traveled through her selfcreated personal communication networkso what exactly is there to review either the us government believes the statements by the secretary of state to be true or they do notsecond the government knowingly allowed the secret communication network to exist and allowed all the construction issues therein to take place therefore the burden of any administrative compliance issue should reside upon them to reconcile expeditiouslythe obama administration told a federal court monday that it needs several months more to go through former secretary of state hillary rodham clinton s government emails saying it s proving timeconsuming to sort out exactly what information they can release to the publicjustice department lawyers also bristled at accusations that the government perpetrated a fraud by hiding the existence of the emails as mr obama s team begins to fully grapple with the legal complications mrs clinton has left themread more washington examiner",
         "hillary clinton clean dug huge hole digging deeper clear lie itgowdy today possibility retrieving hillary emailshouse select committee benghazi chairman trey gowdy tuesday technically possible retrieve thousands emails former secretary state hillary clinton private server lawyer wiped clean benghazi panel calls hillary testifya house panel tuesday formally requested hillary clinton testify private server email account serving secretary staterep trey gowdy chairman select committee benghazi request clinton personal attorney david kendall requesting clinton committee transcribed interview server emailthe request kendall told gowdy server wiped clean impossible recover emails clinton deleted yeargowdy request kendall asked clinton reconsider refusal turn server neutral party called highly unusual unprecedented clinton deleted personal emails turned workrelated message state department reviewing data filter classified information secretary unique arrangement relates public records tenure secretary state gowdy wrote committee left alternative request secretary clinton committee transcribed interview understand decisions secretary made relevant creation maintenance retention ultimately deletion public records reviewas read media report important remember hillary clinton previously stated unequivocally classified communication traveled selfcreated personal communication networkso review government believes statements secretary state notsecond government knowingly allowed secret communication network exist allowed construction issues place burden administrative compliance issue reside reconcile expeditiouslythe obama administration told federal court monday months former secretary state hillary rodham clinton government emails proving timeconsuming sort information release publicjustice department lawyers bristled accusations government perpetrated fraud hiding existence emails mr obama team begins fully grapple legal complications mrs clinton left themread washington examiner",
         "hillary clinton clean dug huge hole digging deeper clear lie itgowdy today possibility retrieving hillary emailshouse select committee benghazi chairman trey gowdy tuesday technically possible retrieve thousands emails former secretary hillary clinton private server lawyer wiped clean benghazi panel calls hillary testifya panel tuesday formally requested hillary clinton testify private server email account serving secretary staterep trey gowdy chairman select committee benghazi request clinton personal attorney david kendall requesting clinton committee transcribed interview server emailthe request kendall told gowdy server wiped clean impossible recover emails clinton deleted yeargowdy request kendall asked clinton reconsider refusal turn server neutral party called highly unusual unprecedented clinton deleted personal emails turned workrelated message department reviewing data filter classified information secretary unique arrangement relates public records tenure secretary gowdy wrote committee left alternative request secretary clinton committee transcribed interview understand decisions secretary made relevant creation maintenance retention ultimately deletion public records reviewas read media report important remember hillary clinton previously stated unequivocally classified communication traveled selfcreated personal communication networkso review believes statements secretary notsecond knowingly allowed secret communication network exist allowed construction issues place burden administrative compliance issue reside reconcile expeditiouslythe obama administration told federal court monday months former secretary hillary rodham clinton emails proving timeconsuming sort information release publicjustice department lawyers bristled accusations perpetrated fraud hiding existence emails mr obama team begins fully grapple legal complications mrs clinton left themread washington examiner"
        ],
        [
         "2",
         "the irony here isn t lost on us hillary is being compared to the president she wanted to take down nixon s got nothing on this criminal who wiped her server clean after emails were requested from her john fund questions the democrat s strategy to support a nixonian type candidate with more baggage than a samsonite factory she s secretive scandalplagued and seemingly inevitable ever since hillary clinton s email scandal broke comparisons between her secretive style and that of richard nixon whom she ironically pursued as a young lawyer on the house impeachment committee have been frequent but with the revelation that she wiped her private email server clean after her records were requested by the state department last year the comparisons are becoming more concrete washington wags note that even nixon never destroyed the tapes but hillary has permanently erased her emailsexactly what would a hillary presidency look like and could it plunge the nation into another round of debilitating clinton scandals that s a question democrats should ask themselves before they hand the nomination over to her many democrats have reservations about hillary s cozy relations with wall street her vote for the iraq war and the clinton couple s flexibility on issues they love winning they re both masters of it hillary maybe even more than bill but that s not the same as having a belief system noted the liberal rolling stone magazine but some democrats also want hillary to be challenged on her nixonian penchant for slipperiness and questionable fundraisinga strong primary challenge has provided clues as to how she would run in a general election something democrats should know after all the first clinton presidency was good for the clintons but not for the democratic party which lost both houses of congress along with a majority of the nation s governorships and during a time of economic prosperity and peaceread more national review",
         "irony lost hillary compared president wanted nixon criminal wiped server clean emails requested john fund questions democrat strategy support nixonian type candidate baggage samsonite factory secretive scandalplagued seemingly inevitable hillary clinton email scandal broke comparisons secretive style richard nixon ironically pursued young lawyer house impeachment committee frequent revelation wiped private email server clean records requested state department year comparisons concrete washington wags note nixon destroyed tapes hillary permanently erased emailsexactly hillary presidency plunge nation round debilitating clinton scandals question democrats hand nomination democrats reservations hillary cozy relations wall street vote iraq clinton couple flexibility issues love winning masters hillary bill belief system noted liberal rolling stone magazine democrats hillary challenged nixonian penchant slipperiness questionable fundraisinga strong primary challenge provided clues run general election democrats clinton presidency clintons democratic party lost houses congress majority nation governorships time economic prosperity peaceread national review",
         "irony lost hillary compared wanted nixon criminal wiped server clean emails requested john fund questions democrat strategy support nixonian type candidate baggage samsonite factory secretive scandalplagued seemingly inevitable hillary clinton email scandal broke comparisons secretive style richard nixon ironically pursued young lawyer impeachment committee frequent revelation wiped private email server clean records requested department year comparisons concrete washington wags note nixon destroyed tapes hillary permanently erased emailsexactly hillary presidency plunge nation round debilitating clinton scandals question democrats hand nomination democrats reservations hillary cozy relations wall street vote iraq clinton couple flexibility issues love winning masters hillary bill belief system noted liberal rolling stone magazine democrats hillary challenged nixonian penchant slipperiness questionable fundraisinga strong primary challenge provided clues run general election democrats clinton presidency clintons democratic party lost houses congress majority nation governorships time economic prosperity peaceread national review"
        ],
        [
         "3",
         "in case you missed it sen harry reid rnv who announced last week that he will retire after his current term expires in early said he does not regret taking to the senate floor in to accuse thengop presidential nominee mitt romney of not paying his taxes no i don t regret that at all he told cnn s dana bash the koch brothers no one would help me they were afraid the koch brothers would go after them so i did it on my own bash said some viewed the charge as mccarthyite but reid didn t buy that explanation he shrugged saying they can call it whatever they want romney didn t win did he reid said somewhat amusingly",
         "case missed harry reid rnv announced week retire current term expires early regret taking senate floor accuse thengop presidential nominee romney paying taxes regret told cnn dana bash koch brothers afraid koch brothers bash viewed charge mccarthyite reid buy explanation shrugged call romney win reid amusingly",
         "case missed harry reid rnv announced week retire current term expires early regret taking senate floor accuse thengop presidential nominee romney paying taxes regret told cnn dana bash koch brothers afraid koch brothers bash viewed charge mccarthyite reid buy explanation shrugged call romney win reid amusingly"
        ],
        [
         "4",
         "nothing like political cronyism to make your stomach churn especially since it s for a scumbag like teddy who rode the coattails of the american taxpayers his entire life could they not raise the funds from private donors i guess not it s a shame for all the hardworking taxpayers out there who ponied up without even having a choice in the matterover half of the funding for the edward m kennedy institute for the united states senate came from taxpayer dollars half of that from defense budgetit was supposed to be all private money but alas even in death teddy kennedy has found a way to take from the american taxpayer that the money is going to his own self aggrandizement would have pleased him that the money came from defense would have pleased him even morethe new york times writes here s an unstated lesson it pays to have friends running the appropriations committee more than million of the million in public funds for the center was funneled through the defense appropriations subcommittee a powerful panel once run by other senate powerhouses who have died in recent yearssenators daniel k inouye democrat of hawaii and ted stevens republican of alaska but one would think people would be lining up to throw cash at the project given how great kennedy was couldn t the kennedy clan pony up the dough or maybe just house the memorial in the basement of the hyannis port estate but why have the family or friends of the kennedys pay for teddy s monument when one can get the taxpayers to do itand this from newsmax president obama vice president biden secretary of state john kerry and sen elizabeth warren will all gather to praise the edward m kennedy institute for the united states senate much will be said about kennedy s year record in the us senate nothing about various scandals that ranged from chappaquiddick to his attempts to have the soviets intervene in the presidential election against ronald reagan boston herald columnist howie carr points out that the insititute was supposed to be paid for exclusively with private donations but it should come as no surprise that the gorgeous squarefoot building that will house kennedy s papers and memorabilia as well as a recreation of his personal office and the senate chamber was financed with a generous million congressional earmark the state of massachusetts chipped in with another million for education infrastructureread more newsmax",
         "political cronyism make stomach churn especially scumbag teddy rode coattails american taxpayers entire life raise funds private donors guess shame hardworking taxpayers ponied choice matterover half funding edward kennedy institute united states senate taxpayer dollars half defense budgetit supposed private money alas death teddy kennedy found american taxpayer money aggrandizement pleased money defense pleased morethe york times writes unstated lesson pays friends running appropriations committee million million public funds center funneled defense appropriations subcommittee powerful panel run senate powerhouses died recent yearssenators daniel inouye democrat hawaii ted stevens republican alaska lining throw cash project great kennedy kennedy clan pony dough house memorial basement hyannis port estate family friends kennedys pay teddy monument taxpayers itand newsmax president obama vice president biden secretary state john kerry elizabeth warren gather praise edward kennedy institute united states senate kennedy year record senate scandals ranged chappaquiddick attempts soviets intervene presidential election ronald reagan boston herald columnist howie carr points insititute supposed paid exclusively private donations surprise gorgeous squarefoot building house kennedy papers memorabilia recreation personal office senate chamber financed generous million congressional earmark state massachusetts chipped million education infrastructureread newsmax",
         "political cronyism make stomach churn especially scumbag teddy rode coattails american taxpayers entire life raise funds private donors guess shame hardworking taxpayers ponied choice matterover half funding edward kennedy institute senate taxpayer dollars half defense budgetit supposed private money alas death teddy kennedy found american taxpayer money aggrandizement pleased money defense pleased morethe york times writes unstated lesson pays friends running appropriations committee million million public funds center funneled defense appropriations subcommittee powerful panel run senate powerhouses died recent yearssenators daniel inouye democrat hawaii ted stevens alaska lining throw cash project great kennedy kennedy clan pony dough memorial basement hyannis port estate family friends kennedys pay teddy monument taxpayers itand newsmax obama vice biden secretary john kerry elizabeth warren gather praise edward kennedy institute senate kennedy year record senate scandals ranged chappaquiddick attempts soviets intervene presidential election ronald reagan boston herald columnist howie carr points insititute supposed paid exclusively private donations surprise gorgeous squarefoot building kennedy papers memorabilia recreation personal office senate chamber financed generous million congressional earmark massachusetts chipped million education infrastructureread newsmax"
        ]
       ],
       "shape": {
        "columns": 3,
        "rows": 5
       }
      },
      "text/html": [
       "<div>\n",
       "<style scoped>\n",
       "    .dataframe tbody tr th:only-of-type {\n",
       "        vertical-align: middle;\n",
       "    }\n",
       "\n",
       "    .dataframe tbody tr th {\n",
       "        vertical-align: top;\n",
       "    }\n",
       "\n",
       "    .dataframe thead th {\n",
       "        text-align: right;\n",
       "    }\n",
       "</style>\n",
       "<table border=\"1\" class=\"dataframe\">\n",
       "  <thead>\n",
       "    <tr style=\"text-align: right;\">\n",
       "      <th></th>\n",
       "      <th>text</th>\n",
       "      <th>no_sw</th>\n",
       "      <th>wo_stopfreq</th>\n",
       "    </tr>\n",
       "  </thead>\n",
       "  <tbody>\n",
       "    <tr>\n",
       "      <th>0</th>\n",
       "      <td>the gay mafia has a new corporate don this is ...</td>\n",
       "      <td>gay mafia corporate article read sheer stupidi...</td>\n",
       "      <td>gay mafia corporate article read sheer stupidi...</td>\n",
       "    </tr>\n",
       "    <tr>\n",
       "      <th>1</th>\n",
       "      <td>does anyone really think hillary clinton will ...</td>\n",
       "      <td>hillary clinton clean dug huge hole digging de...</td>\n",
       "      <td>hillary clinton clean dug huge hole digging de...</td>\n",
       "    </tr>\n",
       "    <tr>\n",
       "      <th>2</th>\n",
       "      <td>the irony here isn t lost on us hillary is bei...</td>\n",
       "      <td>irony lost hillary compared president wanted n...</td>\n",
       "      <td>irony lost hillary compared wanted nixon crimi...</td>\n",
       "    </tr>\n",
       "    <tr>\n",
       "      <th>3</th>\n",
       "      <td>in case you missed it sen harry reid rnv who a...</td>\n",
       "      <td>case missed harry reid rnv announced week reti...</td>\n",
       "      <td>case missed harry reid rnv announced week reti...</td>\n",
       "    </tr>\n",
       "    <tr>\n",
       "      <th>4</th>\n",
       "      <td>nothing like political cronyism to make your s...</td>\n",
       "      <td>political cronyism make stomach churn especial...</td>\n",
       "      <td>political cronyism make stomach churn especial...</td>\n",
       "    </tr>\n",
       "  </tbody>\n",
       "</table>\n",
       "</div>"
      ],
      "text/plain": [
       "                                                text  \\\n",
       "0  the gay mafia has a new corporate don this is ...   \n",
       "1  does anyone really think hillary clinton will ...   \n",
       "2  the irony here isn t lost on us hillary is bei...   \n",
       "3  in case you missed it sen harry reid rnv who a...   \n",
       "4  nothing like political cronyism to make your s...   \n",
       "\n",
       "                                               no_sw  \\\n",
       "0  gay mafia corporate article read sheer stupidi...   \n",
       "1  hillary clinton clean dug huge hole digging de...   \n",
       "2  irony lost hillary compared president wanted n...   \n",
       "3  case missed harry reid rnv announced week reti...   \n",
       "4  political cronyism make stomach churn especial...   \n",
       "\n",
       "                                         wo_stopfreq  \n",
       "0  gay mafia corporate article read sheer stupidi...  \n",
       "1  hillary clinton clean dug huge hole digging de...  \n",
       "2  irony lost hillary compared wanted nixon crimi...  \n",
       "3  case missed harry reid rnv announced week reti...  \n",
       "4  political cronyism make stomach churn especial...  "
      ]
     },
     "execution_count": 48,
     "metadata": {},
     "output_type": "execute_result"
    }
   ],
   "source": [
    "# Remove the most frequent words:\n",
    "FREQWORDS = set([w for (w, wc) in cnt.most_common(10)])\n",
    "def remove_freqwords(text):\n",
    "    return \" \".join([word for word in str(text).split() if word not in FREQWORDS])\n",
    "\n",
    "new_text_df[\"wo_stopfreq\"] = new_text_df[\"no_sw\"].apply(lambda text: remove_freqwords(text))\n",
    "new_text_df.head()"
   ]
  },
  {
   "cell_type": "markdown",
   "id": "827cd5c0",
   "metadata": {},
   "source": [
    "## 2: Using a vectorizer with the lamitization."
   ]
  },
  {
   "cell_type": "code",
   "execution_count": 70,
   "id": "5bf86a73",
   "metadata": {},
   "outputs": [
    {
     "name": "stdout",
     "output_type": "stream",
     "text": [
      "Collecting en-core-web-sm==3.8.0\n",
      "  Downloading https://github.com/explosion/spacy-models/releases/download/en_core_web_sm-3.8.0/en_core_web_sm-3.8.0-py3-none-any.whl (12.8 MB)\n",
      "     ---------------------------------------- 0.0/12.8 MB ? eta -:--:--\n",
      "      --------------------------------------- 0.3/12.8 MB ? eta -:--:--\n",
      "     --------- ------------------------------ 3.1/12.8 MB 11.3 MB/s eta 0:00:01\n",
      "     -------------------- ------------------- 6.6/12.8 MB 13.9 MB/s eta 0:00:01\n",
      "     ------------------------------- ------- 10.5/12.8 MB 15.2 MB/s eta 0:00:01\n",
      "     --------------------------------------- 12.8/12.8 MB 15.2 MB/s eta 0:00:00\n",
      "Installing collected packages: en-core-web-sm\n",
      "Successfully installed en-core-web-sm-3.8.0\n",
      "\u001b[38;5;2m✔ Download and installation successful\u001b[0m\n",
      "You can now load the package via spacy.load('en_core_web_sm')\n"
     ]
    }
   ],
   "source": [
    "\n",
    "!python -m spacy download en_core_web_sm\n"
   ]
  },
  {
   "cell_type": "code",
   "execution_count": 71,
   "id": "d80aa540",
   "metadata": {},
   "outputs": [],
   "source": [
    "import re\n",
    "import string\n",
    "import spacy\n",
    "from nltk.corpus import stopwords\n",
    "\n",
    "# Load spaCy English model\n",
    "nlp = spacy.load(\"en_core_web_sm\")\n",
    "\n",
    "# Define your domain-specific stopwords\n",
    "FREQWORDS = set([\n",
    "    'trump', 'president', 'reuters', 'state', 'donald',\n",
    "    'states', 'house', 'government', 'republican', 'united'\n",
    "])\n",
    "\n",
    "# Combine with NLTK's standard English stopwords\n",
    "custom_stopwords = set(stopwords.words()).union(FREQWORDS)\n",
    "\n",
    "# Optional: Define a cleaning function (you already have this, but included for completeness)\n",
    "def cleaning(text):\n",
    "    text = text.lower()\n",
    "    text = re.sub(r'https?://\\S+|www\\.\\S+', '', text)                     # Remove URLs\n",
    "    text = re.sub(r'\\b\\d+\\b', '', text)                                   # Remove standalone numbers\n",
    "    text = re.sub(r'<.*?>', '', text)                                     # Remove HTML tags\n",
    "    text = re.sub(f'[{re.escape(string.punctuation)}]', '', text)        # Remove punctuation\n",
    "    text = re.sub(r'\\n', ' ', text)\n",
    "    text = re.sub(r'[’“”…]', '', text)                                    # Remove special quotes\n",
    "    emoji_pattern = re.compile(\"[\"                                        # Remove emojis\n",
    "        u\"\\U0001F600-\\U0001F64F\"\n",
    "        u\"\\U0001F300-\\U0001F5FF\"\n",
    "        u\"\\U0001F680-\\U0001F6FF\"\n",
    "        u\"\\U0001F1E0-\\U0001F1FF\"\n",
    "        u\"\\U00002702-\\U000027B0\"\n",
    "        u\"\\U000024C2-\\U0001F251\"\n",
    "        \"]+\", flags=re.UNICODE)\n",
    "    text = emoji_pattern.sub('', text)\n",
    "\n",
    "    # Expand contractions\n",
    "    contractions = {\n",
    "        \"isn't\": \"is not\", \"he's\": \"he is\", \"wasn't\": \"was not\", \"there's\": \"there is\",\n",
    "        \"couldn't\": \"could not\", \"won't\": \"will not\", \"they're\": \"they are\", \"she's\": \"she is\",\n",
    "        \"wouldn't\": \"would not\", \"haven't\": \"have not\", \"that's\": \"that is\", \"you've\": \"you have\",\n",
    "        \"what's\": \"what is\", \"weren't\": \"were not\", \"we're\": \"we are\", \"hasn't\": \"has not\",\n",
    "        \"you'd\": \"you would\", \"shouldn't\": \"should not\", \"let's\": \"let us\", \"they've\": \"they have\",\n",
    "        \"you'll\": \"you will\", \"i'm\": \"i am\", \"we've\": \"we have\", \"it's\": \"it is\", \"don't\": \"do not\",\n",
    "        \"that´s\": \"that is\", \"i´m\": \"i am\", \"it’s\": \"it is\", \"she´s\": \"she is\", \"i’m\": \"i am\",\n",
    "        \"i’d\": \"i did\", \"there’s\": \"there is\"\n",
    "    }\n",
    "\n",
    "    for contraction, expanded in contractions.items():\n",
    "        text = re.sub(rf\"\\b{re.escape(contraction)}\\b\", expanded, text)\n",
    "\n",
    "    text = re.sub(r'\\s+', ' ', text).strip()\n",
    "    return text\n",
    "\n",
    "# Lemmatizer & tokenizer using spaCy and custom stopwords\n",
    "def spacy_lemmatizer_tokenizer(text):\n",
    "    \"\"\"\n",
    "    Applies spaCy lemmatization and filters tokens using a custom stopword list.\n",
    "    Expects the input text to be cleaned beforehand.\n",
    "    \"\"\"\n",
    "    doc = nlp(text.lower())\n",
    "\n",
    "    tokens = [\n",
    "        token.lemma_ for token in doc\n",
    "        if token.is_alpha and token.lemma_ not in custom_stopwords\n",
    "    ]\n",
    "\n",
    "    return tokens\n",
    "\n",
    "# Final preprocessing function to plug into a vectorizer or pipeline\n",
    "def preprocess(text):\n",
    "    cleaned = cleaning(text)\n",
    "    return spacy_lemmatizer_tokenizer(cleaned)\n"
   ]
  },
  {
   "cell_type": "code",
   "execution_count": null,
   "id": "7bb4d87c",
   "metadata": {},
   "outputs": [],
   "source": []
  }
 ],
 "metadata": {
  "kernelspec": {
   "display_name": ".venv",
   "language": "python",
   "name": "python3"
  },
  "language_info": {
   "codemirror_mode": {
    "name": "ipython",
    "version": 3
   },
   "file_extension": ".py",
   "mimetype": "text/x-python",
   "name": "python",
   "nbconvert_exporter": "python",
   "pygments_lexer": "ipython3",
   "version": "3.13.1"
  }
 },
 "nbformat": 4,
 "nbformat_minor": 5
}
